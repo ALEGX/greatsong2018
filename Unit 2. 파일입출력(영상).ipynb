{
 "cells": [
  {
   "cell_type": "markdown",
   "metadata": {},
   "source": [
    "## Unit 2. 파일입출력\n",
    "### 1) open() 함수 : 파일을 여는 함수\n",
    "### 2) close() 함수 : 파일을 닫는 함수\n",
    "### 3) 파일 열기 모드의 종류\n",
    "#### i) 'r' : read, 읽기 모드 \n",
    "##### ex) f = open('data.txt')\n",
    "#### ii) 'w' : write, 쓰기 모드 \n",
    "##### ex) f = open('file.txt', 'w')\n",
    "#### iii) 'a' : append, 추가(이어쓰기) 모드 \n",
    "##### ex) f = open('file.txt', 'a')"
   ]
  },
  {
   "cell_type": "markdown",
   "metadata": {},
   "source": [
    "## 1. 텍스트 파일 만들기"
   ]
  },
  {
   "cell_type": "code",
   "execution_count": null,
   "metadata": {
    "collapsed": true
   },
   "outputs": [],
   "source": []
  },
  {
   "cell_type": "markdown",
   "metadata": {},
   "source": [
    "## 2. 파일에서 내용 읽어오기 : 'r' 모드"
   ]
  },
  {
   "cell_type": "markdown",
   "metadata": {},
   "source": [
    "### 1) read() 함수 : 전체 내용 읽어오기"
   ]
  },
  {
   "cell_type": "code",
   "execution_count": 2,
   "metadata": {
    "collapsed": false
   },
   "outputs": [
    {
     "name": "stdout",
     "output_type": "stream",
     "text": [
      "안녕하세요?\n",
      "오늘은 기분이 어떠신가요?\n",
      "오늘 기분이 아주 좋아요!^^\n"
     ]
    }
   ],
   "source": [
    "f = open('data.txt')\n",
    "print(f.read())\n",
    "f.close()"
   ]
  },
  {
   "cell_type": "code",
   "execution_count": null,
   "metadata": {
    "collapsed": true
   },
   "outputs": [],
   "source": [
    "# Unicode 에러가 발생할 경우에는 encoding = 'utf8' 추가\n",
    "f = open('data.txt', encoding = 'utf8')\n",
    "print(f.read())\n",
    "f.close()"
   ]
  },
  {
   "cell_type": "markdown",
   "metadata": {},
   "source": [
    "### 2) for 반복문 활용 : 한 줄씩 읽어오기"
   ]
  },
  {
   "cell_type": "code",
   "execution_count": 3,
   "metadata": {
    "collapsed": false
   },
   "outputs": [
    {
     "name": "stdout",
     "output_type": "stream",
     "text": [
      "안녕하세요?\n",
      "\n",
      "오늘은 기분이 어떠신가요?\n",
      "\n",
      "오늘 기분이 아주 좋아요!^^\n"
     ]
    }
   ],
   "source": [
    "f = open('data.txt')\n",
    "\n",
    "for row in f :\n",
    "    print(row)\n",
    "\n",
    "f.close()"
   ]
  },
  {
   "cell_type": "markdown",
   "metadata": {},
   "source": [
    "### tip) strip() 함수 : \\n, \\t와 같은 특수문자를 없애주는 함수"
   ]
  },
  {
   "cell_type": "code",
   "execution_count": 4,
   "metadata": {
    "collapsed": false
   },
   "outputs": [
    {
     "name": "stdout",
     "output_type": "stream",
     "text": [
      "안녕하세요?\n",
      "오늘은 기분이 어떠신가요?\n",
      "오늘 기분이 아주 좋아요!^^\n"
     ]
    }
   ],
   "source": [
    "f = open('data.txt')\n",
    "\n",
    "for row in f :\n",
    "    print(row.strip())\n",
    "\n",
    "f.close()"
   ]
  },
  {
   "cell_type": "markdown",
   "metadata": {},
   "source": [
    "## 3. 파일에 내용 쓰기 : 'w' 모드, write() 함수"
   ]
  },
  {
   "cell_type": "code",
   "execution_count": 9,
   "metadata": {
    "collapsed": true
   },
   "outputs": [],
   "source": [
    "f = open('today.txt', 'w')\n",
    "f.write('원하는 내용을 입력해주세요!!!\\n')\n",
    "f.write('오늘은 무엇을 드실건가요?\\n')\n",
    "f.close()"
   ]
  },
  {
   "cell_type": "markdown",
   "metadata": {},
   "source": [
    "## 4. 파일에 내용 붙여쓰기 : 'a' 모드"
   ]
  },
  {
   "cell_type": "code",
   "execution_count": 10,
   "metadata": {
    "collapsed": false
   },
   "outputs": [],
   "source": [
    "f = open('today.txt', 'a')\n",
    "f.write('오늘은 맛있는 것을 먹고 싶습니다.\\n')\n",
    "f.write('치킨이 먹고 싶네요.\\n')\n",
    "f.close()"
   ]
  },
  {
   "cell_type": "code",
   "execution_count": 12,
   "metadata": {
    "collapsed": false
   },
   "outputs": [],
   "source": [
    "f = open('today.txt', 'a')\n",
    "for i in range(100) :\n",
    "     f.write('저는 치킨이 좋아요!!!!\\n')\n",
    "f.close()"
   ]
  },
  {
   "cell_type": "code",
   "execution_count": null,
   "metadata": {
    "collapsed": true
   },
   "outputs": [],
   "source": []
  }
 ],
 "metadata": {
  "kernelspec": {
   "display_name": "Python 3",
   "language": "python",
   "name": "python3"
  },
  "language_info": {
   "codemirror_mode": {
    "name": "ipython",
    "version": 3
   },
   "file_extension": ".py",
   "mimetype": "text/x-python",
   "name": "python",
   "nbconvert_exporter": "python",
   "pygments_lexer": "ipython3",
   "version": "3.6.0"
  }
 },
 "nbformat": 4,
 "nbformat_minor": 2
}

{
 "cells": [
  {
   "cell_type": "markdown",
   "metadata": {},
   "source": [
    "### 1. 입력과 출력, 그리고 변수"
   ]
  },
  {
   "cell_type": "code",
   "execution_count": 1,
   "metadata": {
    "collapsed": false
   },
   "outputs": [
    {
     "name": "stdout",
     "output_type": "stream",
     "text": [
      "4\n",
      "<class 'int'>\n",
      "14\n"
     ]
    }
   ],
   "source": [
    "a = 4\n",
    "print(a)\n",
    "print(type(a)) #integer\n",
    "print(a + 10) # 4 + 10"
   ]
  },
  {
   "cell_type": "code",
   "execution_count": 2,
   "metadata": {
    "collapsed": false
   },
   "outputs": [
    {
     "name": "stdout",
     "output_type": "stream",
     "text": [
      "4\n",
      "<class 'str'>\n",
      "410\n",
      "14\n"
     ]
    }
   ],
   "source": [
    "b = '4'\n",
    "print(b)\n",
    "print(type(b))\n",
    "print(b + '10')\n",
    "print(int(b) + int('10'))"
   ]
  },
  {
   "cell_type": "code",
   "execution_count": 5,
   "metadata": {
    "collapsed": false
   },
   "outputs": [
    {
     "name": "stdout",
     "output_type": "stream",
     "text": [
      "song\n",
      "나이를 입력해주세요 : 26\n",
      "26 4\n",
      "song 님은 30 살 처럼 보이시네요?\n"
     ]
    }
   ],
   "source": [
    "name = input()\n",
    "older = '4'\n",
    "age = int(input('나이를 입력해주세요 : '))\n",
    "\n",
    "print(age, older)\n",
    "print(name,'님은',age + int(older),'살 처럼 보이시네요?')"
   ]
  },
  {
   "cell_type": "markdown",
   "metadata": {},
   "source": [
    "### 2. if, elif, else"
   ]
  },
  {
   "cell_type": "code",
   "execution_count": 7,
   "metadata": {
    "collapsed": false
   },
   "outputs": [
    {
     "name": "stdout",
     "output_type": "stream",
     "text": [
      "비밀번호를 입력해주세요 : 2001\n",
      "당신은 누구신가요?\n"
     ]
    }
   ],
   "source": [
    "passwd = input('비밀번호를 입력해주세요 : ')\n",
    "\n",
    "if passwd == '2000' :\n",
    "    print('안녕하세요 주인님!')\n",
    "else :\n",
    "    print('당신은 누구신가요?')"
   ]
  },
  {
   "cell_type": "code",
   "execution_count": 10,
   "metadata": {
    "collapsed": false
   },
   "outputs": [
    {
     "name": "stdout",
     "output_type": "stream",
     "text": [
      "나이를 입력해주세요19\n",
      "3학년이신가요?\n"
     ]
    }
   ],
   "source": [
    "age = int(input('나이를 입력해주세요'))\n",
    "\n",
    "if age == 17 :\n",
    "    print('1학년이신가요?')\n",
    "elif age == 18 :\n",
    "    print('2학년이신가요?')\n",
    "elif age == 19 :\n",
    "    print('3학년이신가요?')\n",
    "else :\n",
    "    print('고등학생이 맞으신가요?')"
   ]
  },
  {
   "cell_type": "markdown",
   "metadata": {},
   "source": [
    "### 3. for 반복문, range()"
   ]
  },
  {
   "cell_type": "code",
   "execution_count": 12,
   "metadata": {
    "collapsed": false
   },
   "outputs": [
    {
     "name": "stdout",
     "output_type": "stream",
     "text": [
      "#######range함수 이해하기1#######\n",
      "10\n",
      "11\n",
      "12\n",
      "13\n",
      "14\n",
      "15\n",
      "16\n",
      "17\n",
      "18\n",
      "19\n"
     ]
    }
   ],
   "source": [
    "print('#######range함수 이해하기1#######')\n",
    "for i in range(10) : \n",
    "    print(i+10)"
   ]
  },
  {
   "cell_type": "code",
   "execution_count": 13,
   "metadata": {
    "collapsed": false
   },
   "outputs": [
    {
     "name": "stdout",
     "output_type": "stream",
     "text": [
      "5,7,9,"
     ]
    }
   ],
   "source": [
    "# range함수 이해하기2\n",
    "for i in range(5,10,2) : \n",
    "    print(i, end = ',')"
   ]
  },
  {
   "cell_type": "code",
   "execution_count": 14,
   "metadata": {
    "collapsed": false
   },
   "outputs": [
    {
     "name": "stdout",
     "output_type": "stream",
     "text": [
      "10 9 8 7 6 5 4 3 2 "
     ]
    }
   ],
   "source": [
    "'''\n",
    "range함수 이해하기3\n",
    "'''\n",
    "for i in range(10,1,-1) : \n",
    "    print(i, end = ' ')"
   ]
  },
  {
   "cell_type": "markdown",
   "metadata": {},
   "source": [
    "### 4. List, indexing, slicing"
   ]
  },
  {
   "cell_type": "code",
   "execution_count": 15,
   "metadata": {
    "collapsed": false
   },
   "outputs": [
    {
     "name": "stdout",
     "output_type": "stream",
     "text": [
      "딸기빙수\n",
      "['망고빙수']\n"
     ]
    }
   ],
   "source": [
    "menu = ['딸기빙수','망고빙수','블루베리빙수']\n",
    "\n",
    "print(menu[0])\n",
    "print(menu[1:2])"
   ]
  },
  {
   "cell_type": "code",
   "execution_count": 16,
   "metadata": {
    "collapsed": false
   },
   "outputs": [
    {
     "name": "stdout",
     "output_type": "stream",
     "text": [
      "딸기빙수!! 먹고 싶어요ㅠㅠ\n",
      "망고빙수!! 먹고 싶어요ㅠㅠ\n",
      "블루베리빙수!! 먹고 싶어요ㅠㅠ\n"
     ]
    }
   ],
   "source": [
    "menu = ['딸기빙수','망고빙수','블루베리빙수']\n",
    "\n",
    "for item in menu :\n",
    "    print(item+'!! 먹고 싶어요ㅠㅠ')"
   ]
  },
  {
   "cell_type": "code",
   "execution_count": 17,
   "metadata": {
    "collapsed": false
   },
   "outputs": [
    {
     "name": "stdout",
     "output_type": "stream",
     "text": [
      "딸기빙수!! 먹고 싶어요ㅠㅠ\n",
      "망고빙수!! 먹고 싶어요ㅠㅠ\n",
      "블루베리빙수!! 먹고 싶어요ㅠㅠ\n"
     ]
    }
   ],
   "source": [
    "menu = ['딸기빙수','망고빙수','블루베리빙수']\n",
    "\n",
    "for item in range(3) :\n",
    "    print(menu[item]+'!! 먹고 싶어요ㅠㅠ')"
   ]
  },
  {
   "cell_type": "markdown",
   "metadata": {},
   "source": [
    "### 수고하셨습니다. 지금까지 배운 내용을 응용해서 간단한 프로그램을 만들어보세요!\n",
    "### 다음 코드를 활용해보셔도 좋습니다 :)"
   ]
  },
  {
   "cell_type": "code",
   "execution_count": null,
   "metadata": {
    "collapsed": false
   },
   "outputs": [],
   "source": [
    "import random\n",
    "\n",
    "menu = ['딸기빙수','망고빙수','블루베리빙수']\n",
    "random.shuffle(menu)\n",
    "print(menu)"
   ]
  },
  {
   "cell_type": "code",
   "execution_count": null,
   "metadata": {
    "collapsed": false
   },
   "outputs": [],
   "source": [
    "import random\n",
    "\n",
    "menu = ['딸기빙수','망고빙수','블루베리빙수']\n",
    "print(random.choice(menu))"
   ]
  }
 ],
 "metadata": {
  "kernelspec": {
   "display_name": "Python 3",
   "language": "python",
   "name": "python3"
  },
  "language_info": {
   "codemirror_mode": {
    "name": "ipython",
    "version": 3
   },
   "file_extension": ".py",
   "mimetype": "text/x-python",
   "name": "python",
   "nbconvert_exporter": "python",
   "pygments_lexer": "ipython3",
   "version": "3.6.0"
  }
 },
 "nbformat": 4,
 "nbformat_minor": 2
}

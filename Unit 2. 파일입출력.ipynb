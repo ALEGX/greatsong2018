{
 "cells": [
  {
   "cell_type": "code",
   "execution_count": 3,
   "metadata": {
    "collapsed": false
   },
   "outputs": [
    {
     "name": "stdout",
     "output_type": "stream",
     "text": [
      "I love you\n",
      "\n",
      "나는 너를 사랑한다\n",
      "\n",
      "We play baseball\n",
      "\n",
      "우리는 야구를 한다\n",
      "\n",
      "Jane likes Tom\n",
      "\n",
      "제인은 톰을 좋아한다\n"
     ]
    }
   ],
   "source": [
    "f = open('data.txt','r', encoding = 'cp949')\n",
    "\n",
    "for row in f :\n",
    "    print(row)\n",
    "    \n",
    "f.close()"
   ]
  },
  {
   "cell_type": "code",
   "execution_count": 5,
   "metadata": {
    "collapsed": false
   },
   "outputs": [
    {
     "name": "stdout",
     "output_type": "stream",
     "text": [
      "I love you\n",
      "나는 너를 사랑한다\n",
      "We play baseball\n",
      "우리는 야구를 한다\n",
      "Jane likes Tom\n",
      "제인은 톰을 좋아한다\n"
     ]
    }
   ],
   "source": [
    "f = open('data.txt', encoding = 'cp949')\n",
    "\n",
    "for row in f :\n",
    "    print(row.strip()) # 문자열.strip() : 줄 바꿈 문자(\\n) 등의 특수문자 제거\n",
    "    \n",
    "f.close()"
   ]
  },
  {
   "cell_type": "code",
   "execution_count": 6,
   "metadata": {
    "collapsed": true
   },
   "outputs": [],
   "source": [
    "f = open('today.txt', 'w')\n",
    "\n",
    "f.write('오늘은 날씨가 좋습니다.')\n",
    "f.write('좋은 하루 보내세요 ^^')\n",
    "\n",
    "f.close()"
   ]
  },
  {
   "cell_type": "code",
   "execution_count": 7,
   "metadata": {
    "collapsed": false
   },
   "outputs": [
    {
     "name": "stdout",
     "output_type": "stream",
     "text": [
      "오늘은 날씨가 좋습니다.좋은 하루 보내세요 ^^\n"
     ]
    }
   ],
   "source": [
    "f = open('today.txt')\n",
    "\n",
    "print(f.read())\n",
    "\n",
    "f.close()"
   ]
  },
  {
   "cell_type": "code",
   "execution_count": 15,
   "metadata": {
    "collapsed": true
   },
   "outputs": [],
   "source": [
    "f = open('today.txt', 'w')\n",
    "\n",
    "f.write('오늘은 날씨가 좋습니다!\\n')\n",
    "f.write('좋은 하루 보내세요! ^^')\n",
    "\n",
    "f.close()"
   ]
  },
  {
   "cell_type": "code",
   "execution_count": 9,
   "metadata": {
    "collapsed": false
   },
   "outputs": [
    {
     "name": "stdout",
     "output_type": "stream",
     "text": [
      "오늘은 날씨가 좋습니다!\n",
      "좋은 하루 보내세요! ^^\n"
     ]
    }
   ],
   "source": [
    "f = open('today.txt')\n",
    "\n",
    "print(f.read())\n",
    "\n",
    "f.close()"
   ]
  },
  {
   "cell_type": "code",
   "execution_count": 16,
   "metadata": {
    "collapsed": false
   },
   "outputs": [
    {
     "name": "stdout",
     "output_type": "stream",
     "text": [
      "오늘의 1번째 계획을 입력해주세요잠자기\n",
      "오늘의 2번째 계획을 입력해주세요꿀잠자기\n",
      "오늘의 3번째 계획을 입력해주세요완잠자기\n"
     ]
    }
   ],
   "source": [
    "f = open('today.txt', 'a')\n",
    "\n",
    "f.write('\\n오늘의 계획입니다.\\n')\n",
    "\n",
    "for i in range(3) :\n",
    "    plan = input('오늘의 '+str(i+1)+'번째 계획을 입력해주세요 : ')\n",
    "    f.write(str(i+1)+'번째 계획 : '+plan+'\\n')\n",
    "\n",
    "f.close()"
   ]
  },
  {
   "cell_type": "code",
   "execution_count": 17,
   "metadata": {
    "collapsed": false
   },
   "outputs": [
    {
     "name": "stdout",
     "output_type": "stream",
     "text": [
      "오늘은 날씨가 좋습니다!\n",
      "좋은 하루 보내세요! ^^\n",
      "오늘의 계획입니다.\n",
      "1번째 계획 : 잠자기\n",
      "2번째 계획 : 꿀잠자기\n",
      "3번째 계획 : 완잠자기\n",
      "\n"
     ]
    }
   ],
   "source": [
    "f = open('today.txt')\n",
    "\n",
    "print(f.read())\n",
    "\n",
    "f.close()"
   ]
  },
  {
   "cell_type": "code",
   "execution_count": null,
   "metadata": {
    "collapsed": true
   },
   "outputs": [],
   "source": []
  }
 ],
 "metadata": {
  "kernelspec": {
   "display_name": "Python 3",
   "language": "python",
   "name": "python3"
  },
  "language_info": {
   "codemirror_mode": {
    "name": "ipython",
    "version": 3
   },
   "file_extension": ".py",
   "mimetype": "text/x-python",
   "name": "python",
   "nbconvert_exporter": "python",
   "pygments_lexer": "ipython3",
   "version": "3.6.0"
  }
 },
 "nbformat": 4,
 "nbformat_minor": 2
}

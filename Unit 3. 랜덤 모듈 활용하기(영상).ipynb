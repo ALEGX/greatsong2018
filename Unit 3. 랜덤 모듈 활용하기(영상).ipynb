{
 "cells": [
  {
   "cell_type": "markdown",
   "metadata": {},
   "source": [
    "## Unit 3. 랜덤 모듈 활용하기\n",
    "### 1) 모듈 : (훌륭한 누군가가 이미 만들어둔)함수 꾸러미\n",
    "### 2) 모듈 불러오기 : import 모듈이름\n",
    "##### ex) import random\n",
    "### 3) 별명 만들기 : import 모듈이름 as 별명\n",
    "##### ex) import random as r"
   ]
  },
  {
   "cell_type": "code",
   "execution_count": 2,
   "metadata": {
    "collapsed": true
   },
   "outputs": [],
   "source": [
    "import random as r"
   ]
  },
  {
   "cell_type": "markdown",
   "metadata": {},
   "source": [
    "### 4) 랜덤 모듈의 함수들"
   ]
  },
  {
   "cell_type": "code",
   "execution_count": 5,
   "metadata": {
    "collapsed": false
   },
   "outputs": [],
   "source": [
    "fruits = ['딸기','포도','망고','두리안','블루베리']"
   ]
  },
  {
   "cell_type": "markdown",
   "metadata": {},
   "source": [
    "#### i) random.shuffle(리스트) : 리스트 섞기\n",
    "##### ex) random.shuffle(fruits)"
   ]
  },
  {
   "cell_type": "code",
   "execution_count": 10,
   "metadata": {
    "collapsed": false
   },
   "outputs": [
    {
     "name": "stdout",
     "output_type": "stream",
     "text": [
      "['블루베리', '딸기', '포도', '망고', '두리안']\n"
     ]
    }
   ],
   "source": [
    "random.shuffle(fruits)\n",
    "print(fruits)"
   ]
  },
  {
   "cell_type": "markdown",
   "metadata": {},
   "source": [
    "#### ii) random.choice(리스트) : 리스트에서 하나 뽑기\n",
    "##### ex) random.choice(fruits)"
   ]
  },
  {
   "cell_type": "code",
   "execution_count": 20,
   "metadata": {
    "collapsed": false
   },
   "outputs": [
    {
     "name": "stdout",
     "output_type": "stream",
     "text": [
      "두리안\n",
      "딸기\n",
      "블루베리\n"
     ]
    }
   ],
   "source": [
    "for i in range(3) :\n",
    "    print(random.choice(fruits))"
   ]
  },
  {
   "cell_type": "markdown",
   "metadata": {},
   "source": [
    "#### iii) random.randrange(정수) : 원하는 범위에서 랜덤하게 정수 만들기\n",
    "##### ex) random.randrange(100)"
   ]
  },
  {
   "cell_type": "code",
   "execution_count": 24,
   "metadata": {
    "collapsed": false
   },
   "outputs": [
    {
     "data": {
      "text/plain": [
       "51"
      ]
     },
     "execution_count": 24,
     "metadata": {},
     "output_type": "execute_result"
    }
   ],
   "source": [
    "random.randrange(100)"
   ]
  },
  {
   "cell_type": "markdown",
   "metadata": {},
   "source": [
    "#### iii) random.randint(정수1,정수2) : 원하는 정수 랜덤하게 만들기\n",
    "##### ex) random.randint(1,6)"
   ]
  },
  {
   "cell_type": "code",
   "execution_count": 30,
   "metadata": {
    "collapsed": false
   },
   "outputs": [
    {
     "name": "stdout",
     "output_type": "stream",
     "text": [
      "[5, 3, 2, 5, 3, 5, 3, 4, 1, 2]\n"
     ]
    }
   ],
   "source": [
    "dice = []\n",
    "for i in range(10):\n",
    "    dice.append(random.randint(1,6))\n",
    "print(dice)"
   ]
  },
  {
   "cell_type": "code",
   "execution_count": null,
   "metadata": {
    "collapsed": true
   },
   "outputs": [],
   "source": []
  }
 ],
 "metadata": {
  "kernelspec": {
   "display_name": "Python 3",
   "language": "python",
   "name": "python3"
  },
  "language_info": {
   "codemirror_mode": {
    "name": "ipython",
    "version": 3
   },
   "file_extension": ".py",
   "mimetype": "text/x-python",
   "name": "python",
   "nbconvert_exporter": "python",
   "pygments_lexer": "ipython3",
   "version": "3.6.0"
  }
 },
 "nbformat": 4,
 "nbformat_minor": 2
}
